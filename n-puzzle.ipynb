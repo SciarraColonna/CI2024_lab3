{
 "cells": [
  {
   "cell_type": "markdown",
   "metadata": {},
   "source": [
    "## Lab 3: **(n<sup>2</sup>-1)-puzzle**"
   ]
  },
  {
   "cell_type": "code",
   "execution_count": 451,
   "metadata": {},
   "outputs": [],
   "source": [
    "import random"
   ]
  },
  {
   "cell_type": "markdown",
   "metadata": {},
   "source": [
    "## **Problem representation**\n",
    "The board numbers disposition is represented as a list of integers and is interpreted as a matrix with row major technique<br>\n",
    "For example, in the case of a 3x3 matrix the related vector has length 9.<br>\n",
    "The actions are made by swapping the zero with one of the possible adjancent numbers."
   ]
  },
  {
   "cell_type": "code",
   "execution_count": 452,
   "metadata": {},
   "outputs": [],
   "source": [
    "PUZZLE_DIM = 2\n",
    "correct_solution = list()\n",
    "\n",
    "# function applying an action to the current board disposition\n",
    "def do_action(disp, action):\n",
    "    new_disp = disp.copy()\n",
    "    new_disp[action[0]] = disp[action[1]]\n",
    "    new_disp[action[1]] = 0\n",
    "\n",
    "    return new_disp\n",
    "\n",
    "\n",
    "# function retrieving all the possible actions related to the current board disposition\n",
    "def available_actions(disp):\n",
    "    actions = list()\n",
    "    zero_pos = -1\n",
    "\n",
    "    for i in range(PUZZLE_DIM**2):\n",
    "        if disp[i] == 0:\n",
    "            zero_pos = i\n",
    "            break\n",
    "    \n",
    "    # zero shifted to the right\n",
    "    if (zero_pos + 1) % PUZZLE_DIM != 0:\n",
    "        actions.append((zero_pos, zero_pos + 1))\n",
    "    # zero shifted to the left\n",
    "    if zero_pos % PUZZLE_DIM != 0:\n",
    "        actions.append((zero_pos, zero_pos - 1))\n",
    "    # zero shifted to the top\n",
    "    if zero_pos >= PUZZLE_DIM:\n",
    "        actions.append((zero_pos, zero_pos - PUZZLE_DIM))\n",
    "    # zero shifted to the bottom\n",
    "    if zero_pos < (PUZZLE_DIM**2 - PUZZLE_DIM):\n",
    "        actions.append((zero_pos, zero_pos + PUZZLE_DIM))\n",
    "    \n",
    "    return actions\n",
    "\n",
    "\n",
    "# function verifying whether the current board disposition is the solution to the problem\n",
    "def is_solution(disp):\n",
    "    return disp == correct_solution"
   ]
  },
  {
   "cell_type": "markdown",
   "metadata": {},
   "source": [
    "Definition of the correct (final) solution and generation of the starting disposition of the board, which is obtained by executing 10.000 random actions on the correct solution."
   ]
  },
  {
   "cell_type": "code",
   "execution_count": 453,
   "metadata": {},
   "outputs": [
    {
     "name": "stdout",
     "output_type": "stream",
     "text": [
      "Initial state:\n",
      "[0, 3, 2, 1]\n"
     ]
    }
   ],
   "source": [
    "# definition of the final (correct) disposition\n",
    "disp = [i for i in range(1, PUZZLE_DIM**2)]\n",
    "disp.append(0)\n",
    "correct_solution = disp.copy()\n",
    "\n",
    "# random iniztialization of the board disposition\n",
    "RANDOMIZE_STEPS = 10_000\n",
    "for i in range(10_000):\n",
    "    actions = available_actions(disp)\n",
    "    rand_action = actions[random.randint(0, len(actions) - 1)]\n",
    "    disp = do_action(disp, rand_action)\n",
    "\n",
    "print(\"Initial state:\")\n",
    "print(disp)"
   ]
  },
  {
   "cell_type": "markdown",
   "metadata": {},
   "source": [
    "## Approach 1: **Breadth-first search**\n",
    "This approach implements a breadth-first search that uses a tree of visits instead of the fronteer queue. Each time a new node is discovered it is added to the tree of the visits, which is stored as a list and whose nodes are instances of the Node class and have the following attributes:\n",
    "- `disp`: the disposition of the numbers on the board (also represented as a list but interpreted as a matrix with row major)\n",
    "- `parent`: the index of the tree in which we can find the parent of the node (the default value for the root element is `-1`, in order to recognize it)\n",
    "\n",
    "The parent index is needed for each node since the tree is not necessarily binary or quasi-complete, so we cannot use a heap structure. The tree of visits is then used to \"reconstruct\" the path by starting from the final solution and \"climbing\" the tree up to the root element."
   ]
  },
  {
   "cell_type": "code",
   "execution_count": 454,
   "metadata": {},
   "outputs": [],
   "source": [
    "# class representing the single node of the tree of the visits\n",
    "class Node:\n",
    "    def __init__(self, disp, parent):\n",
    "        self.disp = disp\n",
    "        self.parent = parent"
   ]
  },
  {
   "cell_type": "code",
   "execution_count": 455,
   "metadata": {},
   "outputs": [
    {
     "name": "stdout",
     "output_type": "stream",
     "text": [
      "Number of steps: 6\n",
      "Path:\n",
      "[0, 3, 2, 1]\n",
      "[3, 0, 2, 1]\n",
      "[3, 1, 2, 0]\n",
      "[3, 1, 0, 2]\n",
      "[0, 1, 3, 2]\n",
      "[1, 0, 3, 2]\n",
      "[1, 2, 3, 0]\n"
     ]
    }
   ],
   "source": [
    "# initialization of the problem tree\n",
    "TREE = list()\n",
    "# the tree initially contains only the starting state (root node)\n",
    "TREE.append(Node(disp.copy(), -1))\n",
    "# the tree visit starts from the root node (at index 0)\n",
    "visit_index = 0\n",
    "state = TREE[visit_index]\n",
    "\n",
    "found = is_solution(disp)\n",
    "# the tree is visited iteratively with a breadth-first search\n",
    "while not found:\n",
    "    # possible actions that can be performed starting from the current state\n",
    "    actions = available_actions(state.disp)\n",
    "    # initialization of the parent of the parent (if present)\n",
    "    ancestor_state = None\n",
    "    if state.parent != -1:\n",
    "        ancestor_state = TREE[state.parent]\n",
    "    \n",
    "    # the states resulting from the possible actions are added to the tree\n",
    "    for i in range(len(actions)):\n",
    "        new_state = Node(do_action(state.disp, actions[i]), visit_index)\n",
    "        # the new state is added as a node of the tree only if it does not bring the board to a\n",
    "        # previous disposition\n",
    "        if ancestor_state == None or new_state.disp != ancestor_state.disp:\n",
    "            TREE.append(new_state)\n",
    "        # if the newly added node has a disposition which corresponds to the solution then the \n",
    "        # tree visit stops\n",
    "        if is_solution(new_state.disp):\n",
    "            found = True\n",
    "            break\n",
    "    \n",
    "    if not found:\n",
    "        # the next node to visit is the one following the last one visited in the tree\n",
    "        visit_index += 1\n",
    "        state = TREE[visit_index]\n",
    "\n",
    "\n",
    "# the solution path is reconstructed starting from the found solution and \"climbing\" the tree list going from\n",
    "# children to parent until the root element (initial disposition) is reached\n",
    "path = []\n",
    "path_index = len(TREE) - 1\n",
    "while path_index != -1:\n",
    "    path.insert(0, TREE[path_index].disp)\n",
    "    path_index = TREE[path_index].parent\n",
    "\n",
    "# output print\n",
    "print(\"Number of steps: \" + str(len(path) - 1))\n",
    "print(\"Path:\")\n",
    "for step in path:\n",
    "    print(step)"
   ]
  },
  {
   "cell_type": "markdown",
   "metadata": {},
   "source": [
    "## Approach 2: **Depth-first search with backtrack**\n",
    "This approach implements a depth-first search that uses the tree of visits as defined in the previous algorithm. This time each Node instance has the following attributes:\n",
    "- `disp`: the disposition of the numbers on the board (also represented as a list but interpreted as a matrix with row major)\n",
    "- `parent`: the index of the tree in which we can find the parent of the node (the default value for the root element is `-1`, in order to recognize it)\n",
    "- `visited`: boolean value used to know whether the node has been visited (used for backtrack)\n",
    "\n",
    "The backtrack is implemented in order to allow the algorithm to \"escape\" from those situations where a branch has no more possible actions so it keeps cycling on the same node in an infinite loop. The backtrack allows to \"climb\" the tree until the first (from the bottom) node that has been discovered but not visited yet, in order to continue the visit from there."
   ]
  },
  {
   "cell_type": "code",
   "execution_count": 456,
   "metadata": {},
   "outputs": [],
   "source": [
    "# class representing the single node of the tree of the visits\n",
    "class Node:\n",
    "    def __init__(self, disp, parent):\n",
    "        self.disp = disp\n",
    "        self.parent = parent\n",
    "        self.visited = False"
   ]
  },
  {
   "cell_type": "code",
   "execution_count": 457,
   "metadata": {},
   "outputs": [
    {
     "name": "stdout",
     "output_type": "stream",
     "text": [
      "Number of steps: 6\n",
      "Path:\n",
      "[0, 3, 2, 1]\n",
      "[2, 3, 0, 1]\n",
      "[2, 3, 1, 0]\n",
      "[2, 0, 1, 3]\n",
      "[0, 2, 1, 3]\n",
      "[1, 2, 0, 3]\n",
      "[1, 2, 3, 0]\n"
     ]
    }
   ],
   "source": [
    "# initialization of the problem tree\n",
    "TREE = list()\n",
    "# the tree initially contains only the starting state (root node)\n",
    "TREE.append(Node(disp.copy(), -1))\n",
    "# the tree visit starts from the root node (at index 0)\n",
    "state = TREE[0]\n",
    "# index of the current parent\n",
    "current_parent = 0\n",
    "\n",
    "found = is_solution(disp)\n",
    "# the tree is visited iteratively with a breadth-first search\n",
    "while not found:\n",
    "    # we mark the node as visited\n",
    "    state.visited = True\n",
    "    # possible actions that can be performed starting from the current state\n",
    "    actions = available_actions(state.disp)\n",
    "    # initialization of the parent of the parent (if present)\n",
    "    ancestor_state = None\n",
    "    if state.parent != -1:\n",
    "        ancestor_state = TREE[state.parent]\n",
    "    \n",
    "    # the states resulting from the possible actions are added to the tree\n",
    "    for i in range(len(actions)):\n",
    "        new_state = Node(do_action(state.disp, actions[i]), current_parent)\n",
    "        # the new state is added as a node of the tree only if it does not bring the board to a\n",
    "        # previous disposition\n",
    "        if new_state.disp not in map(lambda el: el.disp, TREE):\n",
    "            TREE.append(new_state)\n",
    "        # if the newly added node has a disposition which corresponds to the solution then the \n",
    "        # tree visit stops\n",
    "        if is_solution(new_state.disp):\n",
    "            found = True\n",
    "            break\n",
    "    \n",
    "    if not found:\n",
    "        # the next node to visit is the last one inserted in the tree\n",
    "        state = TREE[len(TREE) - 1]\n",
    "        cnt = 0\n",
    "        while state.parent == -1 or state.visited == True:\n",
    "            cnt += 1\n",
    "            state = TREE[len(TREE) - 1 - cnt]\n",
    "        current_parent = len(TREE) - 1 - cnt\n",
    "\n",
    "\n",
    "# the solution path is reconstructed starting from the found solution and \"climbing\" the tree list going from\n",
    "# children to parent until the root element (initial disposition) is reached\n",
    "path = []\n",
    "path_index = len(TREE) - 1\n",
    "while path_index != -1:\n",
    "    path.insert(0, TREE[path_index].disp)\n",
    "    path_index = TREE[path_index].parent\n",
    "\n",
    "# output print\n",
    "print(\"Number of steps: \" + str(len(path) - 1))\n",
    "print(\"Path:\")\n",
    "for step in path:\n",
    "    print(step)"
   ]
  },
  {
   "cell_type": "markdown",
   "metadata": {},
   "source": [
    "## Approach 3: **A-star algorithm**\n",
    "This approach is based on a A-star algorithm, where the cost function *f(n) = g(n) + h(n)*, for each node n, is based on:\n",
    "- ***g(n)***: total number of moves needed to reach that node\n",
    "- ***h(n)*** (*euristhic function*): Manhattan distance of the disposition of the node\n",
    "\n",
    "The cost *f(n)* must be as little as possible and the fronteer is sorted with a descending order of cost, so that the node extraction can be made from the tail of the list and not from the head (it's a faster operation).<br>\n",
    "The visited nodes are marked in a dictionary whose keys are the strings of the node numbers disposition. This is made in order to make the searching of an already visited node faster exploiting the random access and avoiding a O(n) list search."
   ]
  },
  {
   "cell_type": "code",
   "execution_count": 458,
   "metadata": {},
   "outputs": [],
   "source": [
    "# definition of the euristhic function, which is based on the so-called Manhattan distance, which measures the overall\n",
    "# difference between the position of each number in the current state and the one in the correct (final) state\n",
    "def manhattan_distance(disp):\n",
    "    sum = 0\n",
    "    for val in range(1, PUZZLE_DIM**2):\n",
    "        x_sol = (val - 1) // PUZZLE_DIM\n",
    "        y_sol = (val - 1) % PUZZLE_DIM\n",
    "\n",
    "        i = -1\n",
    "        for j in range(PUZZLE_DIM**2):\n",
    "            if disp[j] == val:\n",
    "                i = j\n",
    "                break\n",
    "        x = i // PUZZLE_DIM\n",
    "        y = i % PUZZLE_DIM\n",
    "\n",
    "        sum += (abs(x - x_sol) + abs(y - y_sol))\n",
    "    \n",
    "    return sum"
   ]
  },
  {
   "cell_type": "code",
   "execution_count": 459,
   "metadata": {},
   "outputs": [],
   "source": [
    "# class representing the single node of the search\n",
    "class Node:\n",
    "    def __init__(self, disp, moves):\n",
    "        self.disp = disp\n",
    "        self.moves = moves\n",
    "        self.cost = moves + manhattan_distance(disp)"
   ]
  },
  {
   "cell_type": "code",
   "execution_count": 460,
   "metadata": {},
   "outputs": [
    {
     "name": "stdout",
     "output_type": "stream",
     "text": [
      "Number of steps: 6\n",
      "Path:\n",
      "[0, 3, 2, 1]\n",
      "[2, 3, 0, 1]\n",
      "[2, 3, 1, 0]\n",
      "[2, 0, 1, 3]\n",
      "[0, 2, 1, 3]\n",
      "[1, 2, 0, 3]\n",
      "[1, 2, 3, 0]\n"
     ]
    }
   ],
   "source": [
    "# list containing the states explored but not yet visited\n",
    "fronteer = list([Node(disp, 0)])\n",
    "# dictionary containing the states explored and visited\n",
    "visited = dict()\n",
    "# list containing the path of the solution\n",
    "path = list()\n",
    "\n",
    "state = fronteer.pop()\n",
    "path.append(state.disp)\n",
    "\n",
    "while state.disp != correct_solution:\n",
    "    visited[\"\".join(map(str, state.disp))] = state.cost\n",
    "    # possible actions that can be performed starting from the current state\n",
    "    actions = available_actions(state.disp)\n",
    "\n",
    "    for i in range(len(actions)):\n",
    "        new_state = Node(do_action(state.disp, actions[i]), state.moves + 1)\n",
    "        # the new state is discarded if its disposition is already in the visited dictionary and its cost is greater\n",
    "        key = \"\".join(map(str, new_state.disp))\n",
    "        if (key not in visited) or (key in visited and new_state.cost > visited[key]):\n",
    "            # the new state is added to the fronteer\n",
    "            fronteer.append(new_state)\n",
    "\n",
    "    # the fronteer is sorted according to the cost of the nodes\n",
    "    fronteer.sort(key=lambda el: el.cost, reverse=True)\n",
    "    state = fronteer.pop()\n",
    "    # the current state is added to the solution path\n",
    "    path.append(state.disp)\n",
    "\n",
    "\n",
    "# output print\n",
    "print(\"Number of steps: \" + str(len(path) - 1))\n",
    "print(\"Path:\")\n",
    "for step in path:\n",
    "    print(step)"
   ]
  }
 ],
 "metadata": {
  "kernelspec": {
   "display_name": "myenv",
   "language": "python",
   "name": "python3"
  },
  "language_info": {
   "codemirror_mode": {
    "name": "ipython",
    "version": 3
   },
   "file_extension": ".py",
   "mimetype": "text/x-python",
   "name": "python",
   "nbconvert_exporter": "python",
   "pygments_lexer": "ipython3",
   "version": "3.12.3"
  }
 },
 "nbformat": 4,
 "nbformat_minor": 2
}
